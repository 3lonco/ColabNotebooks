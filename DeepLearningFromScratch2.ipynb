{
  "nbformat": 4,
  "nbformat_minor": 0,
  "metadata": {
    "colab": {
      "provenance": [],
      "toc_visible": true,
      "authorship_tag": "ABX9TyPF6fXfnriHsSPwr82UzpEY",
      "include_colab_link": true
    },
    "kernelspec": {
      "name": "python3",
      "display_name": "Python 3"
    },
    "language_info": {
      "name": "python"
    }
  },
  "cells": [
    {
      "cell_type": "markdown",
      "metadata": {
        "id": "view-in-github",
        "colab_type": "text"
      },
      "source": [
        "<a href=\"https://colab.research.google.com/github/3lonco/ColabNotebooks/blob/main/DeepLearningFromScratch2.ipynb\" target=\"_parent\"><img src=\"https://colab.research.google.com/assets/colab-badge.svg\" alt=\"Open In Colab\"/></a>"
      ]
    },
    {
      "cell_type": "markdown",
      "source": [
        "# import Libraries"
      ],
      "metadata": {
        "id": "6p5Ai3MI_ujV"
      }
    },
    {
      "cell_type": "code",
      "source": [
        "#import\n",
        "import numpy as np"
      ],
      "metadata": {
        "id": "Tqft6p6v_r0q"
      },
      "execution_count": null,
      "outputs": []
    },
    {
      "cell_type": "markdown",
      "source": [
        "# Concept of This Book\n",
        "\n",
        "Experience of creating deep learning is a essentical key to understand deep learning profoundly.\n",
        "The acknoldge and skills are required to understand DL deeply. This book present many experiment to generate DL from scratch. This process takes you a long time to finish it. Hoever, this progress includes many essential technicle which apprehend library and state of the art.\n",
        "\n",
        "\n",
        "# Deep dive into natural language processsing\n",
        "Simply, natural language processing is technich which enable computers to understand langaages we use. Computers cannot perceive our languages easily, thus NLP plays an important role in daily life. NLP has changed our lives dramatically, For example, web search engine makes us possible to find websites which we are looking for.\n",
        "Like this, the technology which has given a huge impact on our life is based on the technique of NLP.\n",
        "\n",
        "We focus on important technique of DL after learning NLP and processing time-sequence data. For instance, word2 vec, RNN, LSTM,GRU, seq2seq,and Attention. We explain these techniques with easily understanble words so that you can completly understand them by developing them from.\n",
        "\n",
        "This book take you an adventure of NLP based on DL. This book is consist of the 8 chapters, which are designed to read in order. Many problems obstruct you, and you will need to overcome problems by improving proggramms. "
      ],
      "metadata": {
        "id": "fI4GiAWG2Xfr"
      }
    },
    {
      "cell_type": "markdown",
      "source": [
        "# Vector and Matrix\n"
      ],
      "metadata": {
        "id": "HBNUDAP-_KNo"
      }
    },
    {
      "cell_type": "code",
      "execution_count": null,
      "metadata": {
        "colab": {
          "base_uri": "https://localhost:8080/"
        },
        "id": "8kS-2J8w2SPm",
        "outputId": "5ac9e147-76f2-48c5-ce97-b4a205d900ad"
      },
      "outputs": [
        {
          "output_type": "execute_result",
          "data": {
            "text/plain": [
              "array([1, 2, 3])"
            ]
          },
          "metadata": {},
          "execution_count": 3
        }
      ],
      "source": [
        "\n",
        "# vector which has three components.\n",
        "x = np.array([1,2,3])\n",
        "x"
      ]
    },
    {
      "cell_type": "code",
      "source": [
        "# Matrix which has 2 row and 3 columns\n",
        "W = np.array([[1,2,3],[4,5,6]])\n",
        "W\n"
      ],
      "metadata": {
        "colab": {
          "base_uri": "https://localhost:8080/"
        },
        "id": "2uMq1PfZ_j9_",
        "outputId": "dd9f3de9-a6e4-4254-8059-a911adb918ae"
      },
      "execution_count": null,
      "outputs": [
        {
          "output_type": "execute_result",
          "data": {
            "text/plain": [
              "array([[1, 2, 3],\n",
              "       [4, 5, 6]])"
            ]
          },
          "metadata": {},
          "execution_count": 4
        }
      ]
    },
    {
      "cell_type": "code",
      "source": [
        "text = 'you say goodbye and I say hello.'\n",
        "text = text.lower()\n",
        "text"
      ],
      "metadata": {
        "id": "xNppT5r9AJNI",
        "colab": {
          "base_uri": "https://localhost:8080/",
          "height": 35
        },
        "outputId": "29a9245d-44de-4e79-e1ee-e29edc767287"
      },
      "execution_count": 7,
      "outputs": [
        {
          "output_type": "execute_result",
          "data": {
            "text/plain": [
              "'you say goodbye and i say hello.'"
            ],
            "application/vnd.google.colaboratory.intrinsic+json": {
              "type": "string"
            }
          },
          "metadata": {},
          "execution_count": 7
        }
      ]
    },
    {
      "cell_type": "code",
      "source": [
        "text = text.replace('.',' .')\n",
        "text"
      ],
      "metadata": {
        "colab": {
          "base_uri": "https://localhost:8080/",
          "height": 35
        },
        "id": "YL6UC7VEKybm",
        "outputId": "60b94200-4610-4958-e8c3-51fa92f24b24"
      },
      "execution_count": 8,
      "outputs": [
        {
          "output_type": "execute_result",
          "data": {
            "text/plain": [
              "'you say goodbye and i say hello .'"
            ],
            "application/vnd.google.colaboratory.intrinsic+json": {
              "type": "string"
            }
          },
          "metadata": {},
          "execution_count": 8
        }
      ]
    },
    {
      "cell_type": "code",
      "source": [
        "words = text.split(' ')\n",
        "words"
      ],
      "metadata": {
        "colab": {
          "base_uri": "https://localhost:8080/"
        },
        "id": "bNThtdhDK87v",
        "outputId": "f63f80cd-4a1d-4a85-9ec8-bfc54e234def"
      },
      "execution_count": 10,
      "outputs": [
        {
          "output_type": "execute_result",
          "data": {
            "text/plain": [
              "['you', 'say', 'goodbye', 'and', 'i', 'say', 'hello', '.']"
            ]
          },
          "metadata": {},
          "execution_count": 10
        }
      ]
    },
    {
      "cell_type": "code",
      "source": [
        "word_to_id = {}\n",
        "id_to_word = {}\n",
        "for word in words:\n",
        "  print(\"for word in words:\",word)\n",
        "  if word not in word_to_id:\n",
        "    new_id = len(word_to_id)\n",
        "    word_to_id[word] = new_id\n",
        "    id_to_word[new_id] = word"
      ],
      "metadata": {
        "colab": {
          "base_uri": "https://localhost:8080/"
        },
        "id": "cD0XpdWXLAZl",
        "outputId": "fc689fb1-80b4-4dc7-dcd9-dc822e23bd37"
      },
      "execution_count": 12,
      "outputs": [
        {
          "output_type": "stream",
          "name": "stdout",
          "text": [
            "for word in words: you\n",
            "for word in words: say\n",
            "for word in words: goodbye\n",
            "for word in words: and\n",
            "for word in words: i\n",
            "for word in words: say\n",
            "for word in words: hello\n",
            "for word in words: .\n"
          ]
        }
      ]
    },
    {
      "cell_type": "code",
      "source": [
        "word_to_id"
      ],
      "metadata": {
        "colab": {
          "base_uri": "https://localhost:8080/"
        },
        "id": "kCRSr_wtLZGO",
        "outputId": "d4661875-66a3-462a-db9d-60c26fdc0293"
      },
      "execution_count": 14,
      "outputs": [
        {
          "output_type": "execute_result",
          "data": {
            "text/plain": [
              "{'you': 0, 'say': 1, 'goodbye': 2, 'and': 3, 'i': 4, 'hello': 5, '.': 6}"
            ]
          },
          "metadata": {},
          "execution_count": 14
        }
      ]
    },
    {
      "cell_type": "code",
      "source": [
        "\n",
        "id_to_word"
      ],
      "metadata": {
        "colab": {
          "base_uri": "https://localhost:8080/"
        },
        "id": "K2Ft_MteLmzs",
        "outputId": "31abb3d1-98a7-402b-e2de-6b1110d16a0e"
      },
      "execution_count": 15,
      "outputs": [
        {
          "output_type": "execute_result",
          "data": {
            "text/plain": [
              "{0: 'you', 1: 'say', 2: 'goodbye', 3: 'and', 4: 'i', 5: 'hello', 6: '.'}"
            ]
          },
          "metadata": {},
          "execution_count": 15
        }
      ]
    },
    {
      "cell_type": "code",
      "source": [
        "corpus = [word_to_id[w] for w in words]\n",
        "corpus"
      ],
      "metadata": {
        "colab": {
          "base_uri": "https://localhost:8080/"
        },
        "id": "DHvMsNsILpLN",
        "outputId": "b2f05475-75ae-4fc6-e92d-d7476e2d9381"
      },
      "execution_count": 17,
      "outputs": [
        {
          "output_type": "execute_result",
          "data": {
            "text/plain": [
              "[0, 1, 2, 3, 4, 1, 5, 6]"
            ]
          },
          "metadata": {},
          "execution_count": 17
        }
      ]
    },
    {
      "cell_type": "code",
      "source": [
        "corpus = np.array(corpus)\n",
        "corpus"
      ],
      "metadata": {
        "colab": {
          "base_uri": "https://localhost:8080/"
        },
        "id": "AUefqyOKL0vO",
        "outputId": "80c63926-beed-48fd-bf23-6801764011c7"
      },
      "execution_count": 19,
      "outputs": [
        {
          "output_type": "execute_result",
          "data": {
            "text/plain": [
              "array([0, 1, 2, 3, 4, 1, 5, 6])"
            ]
          },
          "metadata": {},
          "execution_count": 19
        }
      ]
    },
    {
      "cell_type": "code",
      "source": [
        "def preprocess(text):\n",
        "  word_to_id = {}\n",
        "  id_to_word = {}\n",
        "  for word in words:\n",
        "    if word not in word_to_id:\n",
        "      new_id = len(word_to_id)\n",
        "      word_to_id[word] = new_id\n",
        "      id_to_word[new_id] = word\n",
        "  corpus = np.array([word_to_id[w] for w in words])\n",
        "  return corpus,word_to_id,id_to_word\n",
        "text='you say goodbye and I say hello.'\n",
        "corpus,word_to_id,id_to_word = preprocess(text)\n"
      ],
      "metadata": {
        "colab": {
          "base_uri": "https://localhost:8080/"
        },
        "id": "R4J5lDt8MB7r",
        "outputId": "4264c1f3-364d-41dc-afdd-9724051928a7"
      },
      "execution_count": 21,
      "outputs": [
        {
          "output_type": "stream",
          "name": "stdout",
          "text": [
            "for word in words: you\n",
            "for word in words: say\n",
            "for word in words: goodbye\n",
            "for word in words: and\n",
            "for word in words: i\n",
            "for word in words: say\n",
            "for word in words: hello\n",
            "for word in words: .\n"
          ]
        }
      ]
    },
    {
      "cell_type": "code",
      "source": [
        "import sys\n",
        "sys.path.append('..')\n",
        "import numpy as np\n",
        "print(corpus)\n",
        "print(id_to_word)"
      ],
      "metadata": {
        "colab": {
          "base_uri": "https://localhost:8080/"
        },
        "id": "e2n661VWMShZ",
        "outputId": "78d812b4-c783-4f63-ac94-7fc2ea2325c7"
      },
      "execution_count": 23,
      "outputs": [
        {
          "output_type": "stream",
          "name": "stdout",
          "text": [
            "[0 1 2 3 4 1 5 6]\n",
            "{0: 'you', 1: 'say', 2: 'goodbye', 3: 'and', 4: 'i', 5: 'hello', 6: '.'}\n"
          ]
        }
      ]
    },
    {
      "cell_type": "markdown",
      "source": [
        "### 2.3.4共起行列"
      ],
      "metadata": {
        "id": "vjofd0jwkIun"
      }
    },
    {
      "cell_type": "code",
      "source": [
        "def create_co_matrix(corpus,vocab_size,window_size=1):\n",
        "  corpus_size = len(corpus)\n",
        "  co_matrix = np.zeros((vocab_size,vocab_size),dtype=np.int32)\n",
        "\n",
        "  for idx, word_id in enumerate(corpus):\n",
        "    for i in range(1,window_size+1):\n",
        "      left_idx = idx - i \n",
        "      right_idx = idx + i\n",
        "\n",
        "      if left_idx >= 0:\n",
        "        left_word_id = corpus[left_idx]\n",
        "        co_matrix[word_id,left_word_id] += 1\n",
        "      \n",
        "      if right_idx < corpus_size:\n",
        "        right_word_id = corpus[right_idx]\n",
        "        co_matrix[word_id,right_word_id] +=1\n",
        "\n",
        "  return co_matrix"
      ],
      "metadata": {
        "id": "ipYamTfQOrSW"
      },
      "execution_count": 24,
      "outputs": []
    },
    {
      "cell_type": "markdown",
      "source": [
        "### 2.3.5ベクトル間の類似度\n"
      ],
      "metadata": {
        "id": "DIEWa8V3ju78"
      }
    },
    {
      "cell_type": "code",
      "source": [
        "def cos_similarity(x,y,eps=1e-8):\n",
        "  nx = x/ np.sqrt(np.sum(x**2))\n",
        "  ny = y/ np.sqrt(np.sum(y**2))\n",
        "  return np.dot(nx,ny)\n",
        "\n",
        "text = 'you say goodbye and I say hello'\n",
        "corpus,word_to_id,id_to_word=preprocess(text)\n",
        "vocab_size=len(word_to_id)\n",
        "C = create_co_matrix(corpus,vocab_size)\n",
        "\n",
        "c0 = C[word_to_id['you']]\n",
        "c1 = C[word_to_id['i']]\n",
        "print(cos_similarity(c0,c1))"
      ],
      "metadata": {
        "colab": {
          "base_uri": "https://localhost:8080/"
        },
        "id": "kINOoewGjt-n",
        "outputId": "2fb21a63-c5c7-4add-f28e-33799a134086"
      },
      "execution_count": 26,
      "outputs": [
        {
          "output_type": "stream",
          "name": "stdout",
          "text": [
            "for word in words: you\n",
            "for word in words: say\n",
            "for word in words: goodbye\n",
            "for word in words: and\n",
            "for word in words: i\n",
            "for word in words: say\n",
            "for word in words: hello\n",
            "for word in words: .\n",
            "0.7071067811865475\n"
          ]
        }
      ]
    },
    {
      "cell_type": "markdown",
      "source": [],
      "metadata": {
        "id": "39Ob01_Ik-BM"
      }
    },
    {
      "cell_type": "code",
      "source": [],
      "metadata": {
        "id": "mcnuZQ-zQrVl"
      },
      "execution_count": null,
      "outputs": []
    },
    {
      "cell_type": "code",
      "source": [],
      "metadata": {
        "id": "hU4UOlgAjnOM"
      },
      "execution_count": null,
      "outputs": []
    }
  ]
}